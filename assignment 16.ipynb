{
 "cells": [
  {
   "cell_type": "code",
   "execution_count": 1,
   "id": "0dc0c8ee",
   "metadata": {},
   "outputs": [
    {
     "name": "stdout",
     "output_type": "stream",
     "text": [
      "[1980, 1981, 1982, 1983, 1984, 1985]\n"
     ]
    }
   ],
   "source": [
    "# 1.\tCreate a list called years_list, starting with the year of your birth, and each year thereafter until the year of your fifth birthday. For example, if you were born in 1980. the list would be years_list = [1980, 1981, 1982, 1983, 1984, 1985].\n",
    "years_list = [x for x in range(1980,1980+6)]\n",
    "print (years_list)\n"
   ]
  },
  {
   "cell_type": "code",
   "execution_count": 2,
   "id": "8f2b9fb9",
   "metadata": {},
   "outputs": [
    {
     "name": "stdout",
     "output_type": "stream",
     "text": [
      "[1980, 1981, 1982, 1983, 1984, 1985]\n"
     ]
    }
   ],
   "source": [
    "# 2.\tIn which year in years_list was your third birthday? Remember, you were 0 years of age for your first year.\n",
    "years_list = [x for x in range(1980,1980+6)]\n",
    "print (years_list)\n"
   ]
  },
  {
   "cell_type": "code",
   "execution_count": 6,
   "id": "a0cd4e61",
   "metadata": {},
   "outputs": [],
   "source": [
    "# 3.\tMake a list called things with these three strings as elements: \"mozzarella\", \"cinderella\", \"salmonella\".\n",
    "things = ['mozzarella', 'chi derella', 'salmonella']"
   ]
  },
  {
   "cell_type": "code",
   "execution_count": 5,
   "id": "be2dd3e5",
   "metadata": {},
   "outputs": [
    {
     "name": "stdout",
     "output_type": "stream",
     "text": [
      "Mozzarella\n",
      "Chi derella\n",
      "Salmonella\n",
      "['mozzarella', 'chi derella', 'salmonella']\n"
     ]
    }
   ],
   "source": [
    "4.# Capitalize the element in things that refers to a person and then print the list. Did it change the element in the list?\n",
    "for i in things:\n",
    "    print(i.capitalize())\n",
    "print (things)"
   ]
  },
  {
   "cell_type": "code",
   "execution_count": 8,
   "id": "300fc5b9",
   "metadata": {},
   "outputs": [],
   "source": [
    "#5.\tMake a surprise list with the elements \"Groucho,\" \"Chico,\" and \"Harpo.\"\n",
    "surprise = ['Groucho', 'Chico', 'Harpo']\n",
    "\n"
   ]
  },
  {
   "cell_type": "code",
   "execution_count": 10,
   "id": "db605c86",
   "metadata": {},
   "outputs": [
    {
     "data": {
      "text/plain": [
       "'Harpo'"
      ]
     },
     "execution_count": 10,
     "metadata": {},
     "output_type": "execute_result"
    }
   ],
   "source": [
    "# 6.\tLowercase the last element of the surprise list, reverse it, and then capitalize it.\n",
    "s = surprise[-1].lower()\n",
    "s[::-1] \n",
    "s.capitalize()\n"
   ]
  },
  {
   "cell_type": "code",
   "execution_count": 11,
   "id": "eb25bbc0",
   "metadata": {},
   "outputs": [],
   "source": [
    "#7.\tMake an English-to-French dictionary called e2f and print it. Here are your starter words: dog is chien, cat is chat, and walrus is morse.\n",
    "e2f = {'dog':'chien', 'cat':'chat', 'walrus':'morse'}\n"
   ]
  },
  {
   "cell_type": "code",
   "execution_count": 12,
   "id": "2557a62c",
   "metadata": {},
   "outputs": [
    {
     "data": {
      "text/plain": [
       "'morse'"
      ]
     },
     "execution_count": 12,
     "metadata": {},
     "output_type": "execute_result"
    }
   ],
   "source": [
    "#8.\tWrite the French word for walrus in your three-word dictionary e2f.\n",
    "e2f['walrus']\n"
   ]
  },
  {
   "cell_type": "code",
   "execution_count": 14,
   "id": "2c59e82b",
   "metadata": {},
   "outputs": [
    {
     "name": "stdout",
     "output_type": "stream",
     "text": [
      "{'chien': 'dog', 'chat': 'cat', 'morse': 'walrus'}\n"
     ]
    }
   ],
   "source": [
    "# 9.\tMake a French-to-English dictionary called f2e from e2f. Use the items method.\n",
    "f2e = dict((k,v) for v,k in e2f.items())\n",
    "print (f2e)\n"
   ]
  },
  {
   "cell_type": "code",
   "execution_count": 16,
   "id": "61aecf3d",
   "metadata": {},
   "outputs": [
    {
     "data": {
      "text/plain": [
       "'dog'"
      ]
     },
     "execution_count": 16,
     "metadata": {},
     "output_type": "execute_result"
    }
   ],
   "source": [
    "# 10.\tPrint the English version of the French word chien using f2e.\n",
    "f2e['chien']\n"
   ]
  },
  {
   "cell_type": "code",
   "execution_count": 17,
   "id": "557efc44",
   "metadata": {},
   "outputs": [
    {
     "data": {
      "text/plain": [
       "dict_keys(['dog', 'cat', 'walrus'])"
      ]
     },
     "execution_count": 17,
     "metadata": {},
     "output_type": "execute_result"
    }
   ],
   "source": [
    "# 11.\tMake and print a set of English words from the keys in e2f.\n",
    "e2f.keys()\n"
   ]
  },
  {
   "cell_type": "code",
   "execution_count": 18,
   "id": "4d6fd305",
   "metadata": {},
   "outputs": [],
   "source": [
    "# 12.\tMake a multilevel dictionary called life. Use these strings for the topmost keys: 'animals', 'plants', and 'other'. Make the 'animals' key refer to another dictionary with the keys 'cats', 'octopi', and 'emus'. Make the 'cats' key refer to a list of strings with the values 'Henri', 'Grumpy', and 'Lucy'. Make all the other keys refer to empty dictionaries.\n",
    "animal ={'cats':['Henri','Grumpy','Lucy'],'octopi':'','emus':''}\n",
    "life ={'animal':animal,'plants':'','other':''}\n"
   ]
  },
  {
   "cell_type": "code",
   "execution_count": 19,
   "id": "f2f96fd9",
   "metadata": {},
   "outputs": [
    {
     "data": {
      "text/plain": [
       "dict_keys(['animal', 'plants', 'other'])"
      ]
     },
     "execution_count": 19,
     "metadata": {},
     "output_type": "execute_result"
    }
   ],
   "source": [
    "# 13.\tPrint the top-level keys of life.\n",
    "life.keys()\n"
   ]
  },
  {
   "cell_type": "code",
   "execution_count": 20,
   "id": "17651498",
   "metadata": {},
   "outputs": [
    {
     "data": {
      "text/plain": [
       "dict_keys(['cats', 'octopi', 'emus'])"
      ]
     },
     "execution_count": 20,
     "metadata": {},
     "output_type": "execute_result"
    }
   ],
   "source": [
    "# 14.\tPrint the keys for life['animals'].\n",
    "life['animal'].keys()\n"
   ]
  },
  {
   "cell_type": "code",
   "execution_count": 21,
   "id": "6ed720b9",
   "metadata": {},
   "outputs": [
    {
     "data": {
      "text/plain": [
       "['Henri', 'Grumpy', 'Lucy']"
      ]
     },
     "execution_count": 21,
     "metadata": {},
     "output_type": "execute_result"
    }
   ],
   "source": [
    "# 15.\tPrint the values for life['animals']['cats']\n",
    "life['animal']['cats']\n"
   ]
  },
  {
   "cell_type": "code",
   "execution_count": 22,
   "id": "d3c9a268",
   "metadata": {},
   "outputs": [
    {
     "data": {
      "text/plain": [
       "1985"
      ]
     },
     "execution_count": 22,
     "metadata": {},
     "output_type": "execute_result"
    }
   ],
   "source": [
    "# In the years list, which year were you the oldest?\n",
    "max(years_list)\n"
   ]
  },
  {
   "cell_type": "code",
   "execution_count": null,
   "id": "7dda238a",
   "metadata": {},
   "outputs": [],
   "source": []
  }
 ],
 "metadata": {
  "kernelspec": {
   "display_name": "Python 3",
   "language": "python",
   "name": "python3"
  },
  "language_info": {
   "codemirror_mode": {
    "name": "ipython",
    "version": 3
   },
   "file_extension": ".py",
   "mimetype": "text/x-python",
   "name": "python",
   "nbconvert_exporter": "python",
   "pygments_lexer": "ipython3",
   "version": "3.8.8"
  }
 },
 "nbformat": 4,
 "nbformat_minor": 5
}
