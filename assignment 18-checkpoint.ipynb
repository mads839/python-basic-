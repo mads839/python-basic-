{
 "cells": [
  {
   "cell_type": "code",
   "execution_count": 15,
   "id": "fa20cc31",
   "metadata": {},
   "outputs": [
    {
     "ename": "NameError",
     "evalue": "name 'null' is not defined",
     "output_type": "error",
     "traceback": [
      "\u001b[1;31m---------------------------------------------------------------------------\u001b[0m",
      "\u001b[1;31mNameError\u001b[0m                                 Traceback (most recent call last)",
      "\u001b[1;32m<ipython-input-15-ad5c5f329d0a>\u001b[0m in \u001b[0;36m<module>\u001b[1;34m\u001b[0m\n\u001b[1;32m----> 1\u001b[1;33m \u001b[1;32mimport\u001b[0m \u001b[0mzoo\u001b[0m\u001b[1;33m\u001b[0m\u001b[1;33m\u001b[0m\u001b[0m\n\u001b[0m\u001b[0;32m      2\u001b[0m \u001b[0mzoo\u001b[0m\u001b[1;33m.\u001b[0m\u001b[0mhours\u001b[0m\u001b[1;33m(\u001b[0m\u001b[1;33m)\u001b[0m\u001b[1;33m\u001b[0m\u001b[1;33m\u001b[0m\u001b[0m\n",
      "\u001b[1;32m~\\zoo.py\u001b[0m in \u001b[0;36m<module>\u001b[1;34m\u001b[0m\n\u001b[0;32m     25\u001b[0m   {\n\u001b[0;32m     26\u001b[0m    \u001b[1;34m\"cell_type\"\u001b[0m\u001b[1;33m:\u001b[0m \u001b[1;34m\"code\"\u001b[0m\u001b[1;33m,\u001b[0m\u001b[1;33m\u001b[0m\u001b[1;33m\u001b[0m\u001b[0m\n\u001b[1;32m---> 27\u001b[1;33m    \u001b[1;34m\"execution_count\"\u001b[0m\u001b[1;33m:\u001b[0m \u001b[0mnull\u001b[0m\u001b[1;33m,\u001b[0m\u001b[1;33m\u001b[0m\u001b[1;33m\u001b[0m\u001b[0m\n\u001b[0m\u001b[0;32m     28\u001b[0m    \u001b[1;34m\"id\"\u001b[0m\u001b[1;33m:\u001b[0m \u001b[1;34m\"9a3c338f\"\u001b[0m\u001b[1;33m,\u001b[0m\u001b[1;33m\u001b[0m\u001b[1;33m\u001b[0m\u001b[0m\n\u001b[0;32m     29\u001b[0m    \u001b[1;34m\"metadata\"\u001b[0m\u001b[1;33m:\u001b[0m \u001b[1;33m{\u001b[0m\u001b[1;33m}\u001b[0m\u001b[1;33m,\u001b[0m\u001b[1;33m\u001b[0m\u001b[1;33m\u001b[0m\u001b[0m\n",
      "\u001b[1;31mNameError\u001b[0m: name 'null' is not defined"
     ]
    }
   ],
   "source": [
    "import zoo\n",
    "zoo.hours()"
   ]
  },
  {
   "cell_type": "code",
   "execution_count": 17,
   "id": "b8131b80",
   "metadata": {},
   "outputs": [
    {
     "name": "stdout",
     "output_type": "stream",
     "text": [
      "Collecting jupytext\n",
      "  Downloading jupytext-1.13.4-py3-none-any.whl (297 kB)\n",
      "Collecting markdown-it-py~=1.0\n",
      "  Downloading markdown_it_py-1.1.0-py3-none-any.whl (83 kB)\n",
      "Requirement already satisfied: pyyaml in c:\\users\\user\\anaconda3\\lib\\site-packages (from jupytext) (5.4.1)\n",
      "Requirement already satisfied: nbformat in c:\\users\\user\\anaconda3\\lib\\site-packages (from jupytext) (5.1.3)\n",
      "Collecting mdit-py-plugins\n",
      "  Downloading mdit_py_plugins-0.3.0-py3-none-any.whl (43 kB)\n",
      "Requirement already satisfied: toml in c:\\users\\user\\anaconda3\\lib\\site-packages (from jupytext) (0.10.2)\n",
      "Requirement already satisfied: attrs<22,>=19 in c:\\users\\user\\anaconda3\\lib\\site-packages (from markdown-it-py~=1.0->jupytext) (20.3.0)\n",
      "Requirement already satisfied: traitlets>=4.1 in c:\\users\\user\\anaconda3\\lib\\site-packages (from nbformat->jupytext) (5.0.5)\n",
      "Requirement already satisfied: jsonschema!=2.5.0,>=2.4 in c:\\users\\user\\anaconda3\\lib\\site-packages (from nbformat->jupytext) (3.2.0)\n",
      "Requirement already satisfied: jupyter-core in c:\\users\\user\\anaconda3\\lib\\site-packages (from nbformat->jupytext) (4.7.1)\n",
      "Requirement already satisfied: ipython-genutils in c:\\users\\user\\anaconda3\\lib\\site-packages (from nbformat->jupytext) (0.2.0)\n",
      "Requirement already satisfied: six>=1.11.0 in c:\\users\\user\\anaconda3\\lib\\site-packages (from jsonschema!=2.5.0,>=2.4->nbformat->jupytext) (1.15.0)\n",
      "Requirement already satisfied: setuptools in c:\\users\\user\\anaconda3\\lib\\site-packages (from jsonschema!=2.5.0,>=2.4->nbformat->jupytext) (52.0.0.post20210125)\n",
      "Requirement already satisfied: pyrsistent>=0.14.0 in c:\\users\\user\\anaconda3\\lib\\site-packages (from jsonschema!=2.5.0,>=2.4->nbformat->jupytext) (0.17.3)\n",
      "Requirement already satisfied: pywin32>=1.0 in c:\\users\\user\\anaconda3\\lib\\site-packages (from jupyter-core->nbformat->jupytext) (227)\n",
      "Installing collected packages: markdown-it-py, mdit-py-plugins, jupytext\n",
      "Successfully installed jupytext-1.13.4 markdown-it-py-1.1.0 mdit-py-plugins-0.3.0\n",
      "Collecting jupytextNote: you may need to restart the kernel to use updated packages.\n",
      "  Using cached jupytext-1.13.4-py3-none-any.whl (297 kB)\n",
      "Requirement already satisfied: pyyaml in c:\\users\\user\\anaconda3\\lib\\site-packages (from jupytext) (5.4.1)\n",
      "Requirement already satisfied: nbformat in c:\\users\\user\\anaconda3\\lib\\site-packages (from jupytext) (5.1.3)\n",
      "Collecting mdit-py-plugins\n",
      "  Using cached mdit_py_plugins-0.3.0-py3-none-any.whl (43 kB)\n",
      "Requirement already satisfied: toml in c:\\users\\user\\anaconda3\\lib\\site-packages (from jupytext) (0.10.2)\n",
      "Collecting markdown-it-py~=1.0\n",
      "  Using cached markdown_it_py-1.1.0-py3-none-any.whl (83 kB)\n",
      "Requirement already satisfied: attrs<22,>=19 in c:\\users\\user\\anaconda3\\lib\\site-packages (from markdown-it-py~=1.0->jupytext) (20.3.0)\n",
      "Requirement already satisfied: ipython-genutils in c:\\users\\user\\anaconda3\\lib\\site-packages (from nbformat->jupytext) (0.2.0)\n",
      "Requirement already satisfied: jsonschema!=2.5.0,>=2.4 in c:\\users\\user\\anaconda3\\lib\\site-packages (from nbformat->jupytext) (3.2.0)\n",
      "Requirement already satisfied: jupyter-core in c:\\users\\user\\anaconda3\\lib\\site-packages (from nbformat->jupytext) (4.7.1)\n",
      "Requirement already satisfied: traitlets>=4.1 in c:\\users\\user\\anaconda3\\lib\\site-packages (from nbformat->jupytext) (5.0.5)\n",
      "Requirement already satisfied: setuptools in c:\\users\\user\\anaconda3\\lib\\site-packages (from jsonschema!=2.5.0,>=2.4->nbformat->jupytext) (52.0.0.post20210125)\n",
      "Requirement already satisfied: six>=1.11.0 in c:\\users\\user\\anaconda3\\lib\\site-packages (from jsonschema!=2.5.0,>=2.4->nbformat->jupytext) (1.15.0)\n",
      "\n",
      "Requirement already satisfied: pyrsistent>=0.14.0 in c:\\users\\user\\anaconda3\\lib\\site-packages (from jsonschema!=2.5.0,>=2.4->nbformat->jupytext) (0.17.3)\n",
      "Requirement already satisfied: pywin32>=1.0 in c:\\users\\user\\anaconda3\\lib\\site-packages (from jupyter-core->nbformat->jupytext) (227)\n",
      "Installing collected packages: markdown-it-py, mdit-py-plugins, jupytext\n",
      "Successfully installed jupytext-1.13.4 markdown-it-py-1.1.0 mdit-py-plugins-0.3.0\n"
     ]
    }
   ],
   "source": [
    "pip install jupytext"
   ]
  },
  {
   "cell_type": "code",
   "execution_count": 19,
   "id": "829c1cca",
   "metadata": {},
   "outputs": [
    {
     "ename": "NameError",
     "evalue": "name 'jupyter' is not defined",
     "output_type": "error",
     "traceback": [
      "\u001b[1;31m---------------------------------------------------------------------------\u001b[0m",
      "\u001b[1;31mNameError\u001b[0m                                 Traceback (most recent call last)",
      "\u001b[1;32m<ipython-input-19-775ca5c02075>\u001b[0m in \u001b[0;36m<module>\u001b[1;34m\u001b[0m\n\u001b[1;32m----> 1\u001b[1;33m \u001b[0mjupyter\u001b[0m\u001b[1;33m/\u001b[0m\u001b[0mjupyter_lab_config\u001b[0m\u001b[1;33m.\u001b[0m\u001b[0mpy\u001b[0m\u001b[1;33m\u001b[0m\u001b[1;33m\u001b[0m\u001b[0m\n\u001b[0m",
      "\u001b[1;31mNameError\u001b[0m: name 'jupyter' is not defined"
     ]
    }
   ],
   "source": [
    "jupyter/jupyter_lab_config.py"
   ]
  },
  {
   "cell_type": "code",
   "execution_count": 23,
   "id": "e21f4ec7",
   "metadata": {},
   "outputs": [
    {
     "name": "stdout",
     "output_type": "stream",
     "text": [
      "'Open 9-5 daily'\n"
     ]
    }
   ],
   "source": [
    "#Create a file called zoo.py. In it, define a function called hours() that prints the string 'Open 9-5 daily'. Then, use the interactive interpreter to import the zoo module and call its hours() function.\n",
    "import zoo\n",
    "zoo.hours()"
   ]
  },
  {
   "cell_type": "code",
   "execution_count": 24,
   "id": "172c80f1",
   "metadata": {},
   "outputs": [
    {
     "name": "stdout",
     "output_type": "stream",
     "text": [
      "'Open 9-5 daily'\n"
     ]
    }
   ],
   "source": [
    "#2. In the interactive interpreter, import the zoo module as menagerie and call its hours() function.\n",
    "import zoo as menagerie\n",
    "\n",
    "menagerie.hours()"
   ]
  },
  {
   "cell_type": "code",
   "execution_count": 25,
   "id": "593e0d2d",
   "metadata": {},
   "outputs": [
    {
     "name": "stdout",
     "output_type": "stream",
     "text": [
      "'Open 9-5 daily'\n"
     ]
    }
   ],
   "source": [
    "#Staying in the interpreter, import the hours() function from zoo directly and call it.\n",
    "from zoo import hours\n",
    "hours()\n",
    "\n"
   ]
  },
  {
   "cell_type": "code",
   "execution_count": 26,
   "id": "b4f97740",
   "metadata": {},
   "outputs": [
    {
     "name": "stdout",
     "output_type": "stream",
     "text": [
      "'Open 9-5 daily'\n"
     ]
    }
   ],
   "source": [
    "#Import the hours() function as info and call it.\n",
    "from zoo import hours as info\n",
    "info()\n",
    "\n"
   ]
  },
  {
   "cell_type": "code",
   "execution_count": 27,
   "id": "aaf49b46",
   "metadata": {},
   "outputs": [
    {
     "name": "stdout",
     "output_type": "stream",
     "text": [
      "{'a': 1, 'b': 2, 'c': 3}\n"
     ]
    }
   ],
   "source": [
    "#Create a plain dictionary with the key-value pairs 'a': 1, 'b': 2, and 'c': 3, and print it out.\n",
    "plain = {\n",
    "    'a': 1,\n",
    "    'b': 2,\n",
    "    'c': 3,\n",
    "}\n",
    "print(plain)\n",
    "\n"
   ]
  },
  {
   "cell_type": "code",
   "execution_count": 28,
   "id": "db0655ea",
   "metadata": {},
   "outputs": [
    {
     "name": "stdout",
     "output_type": "stream",
     "text": [
      "dict(pairs): {'a': 1, 'b': 2, 'c': 3}\n",
      "fancy= OrderedDict([('a', 1), ('b', 2), ('c', 3)])\n"
     ]
    }
   ],
   "source": [
    "#Make an OrderedDict called fancy from the same pairs listed in 5 and print it. \n",
    "#Did it print in the same order as plain?\n",
    "from collections import OrderedDict\n",
    "pairs = (\n",
    "    ('a', 1), ('b', 2), ('c', 3),\n",
    ")\n",
    "fancy = OrderedDict(pairs)\n",
    "print('dict(pairs):', dict(pairs))\n",
    "print('fancy=', fancy)\n"
   ]
  },
  {
   "cell_type": "code",
   "execution_count": null,
   "id": "70daba49",
   "metadata": {},
   "outputs": [],
   "source": [
    "# #Make a default dictionary called dict_of_lists and pass it the argument list. \n",
    "# Make the list dict_of_lists['a'] and append the value 'something for a' to it in one assignment.\n",
    "# Print dict_of_lists['a'].\n",
    "from collections import defaultdict\n",
    "dict_of_lists = defaultdict(list)\n",
    "dict_of_lists['a'].append('something for a')\n",
    "print(dict_of_lists['a']"
   ]
  }
 ],
 "metadata": {
  "kernelspec": {
   "display_name": "Python 3",
   "language": "python",
   "name": "python3"
  },
  "language_info": {
   "codemirror_mode": {
    "name": "ipython",
    "version": 3
   },
   "file_extension": ".py",
   "mimetype": "text/x-python",
   "name": "python",
   "nbconvert_exporter": "python",
   "pygments_lexer": "ipython3",
   "version": "3.8.8"
  }
 },
 "nbformat": 4,
 "nbformat_minor": 5
}
